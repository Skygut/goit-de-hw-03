{
 "cells": [
  {
   "cell_type": "code",
   "execution_count": null,
   "metadata": {},
   "outputs": [],
   "source": [
    "from pyspark.sql import SparkSession\n",
    "from pyspark.sql.functions import col, sum as spark_sum, round"
   ]
  },
  {
   "cell_type": "markdown",
   "metadata": {},
   "source": [
    "# 1. Завантажте та прочитайте кожен CSV-файл як окремий DataFrame."
   ]
  },
  {
   "cell_type": "code",
   "execution_count": 69,
   "metadata": {},
   "outputs": [],
   "source": [
    "spark = SparkSession.builder.appName(\"ProductAnalysis\").getOrCreate()\n",
    "purchases = spark.read.csv(\"purchases.csv\", header=True, inferSchema=True)\n",
    "products = spark.read.csv(\"products.csv\", header=True, inferSchema=True)\n",
    "users = spark.read.csv(\"users.csv\", header=True, inferSchema=True)"
   ]
  },
  {
   "cell_type": "code",
   "execution_count": 71,
   "metadata": {},
   "outputs": [
    {
     "name": "stdout",
     "output_type": "stream",
     "text": [
      "+-----------+-------+----------+----------+--------+\n",
      "|purchase_id|user_id|product_id|      date|quantity|\n",
      "+-----------+-------+----------+----------+--------+\n",
      "|          1|     52|         9|2022-01-01|       1|\n",
      "|          2|     93|        37|2022-01-02|       8|\n",
      "|          3|     15|        33|2022-01-03|       1|\n",
      "|          4|     72|        42|2022-01-04|       9|\n",
      "|          5|     61|        44|2022-01-05|       6|\n",
      "+-----------+-------+----------+----------+--------+\n",
      "only showing top 5 rows\n",
      "\n"
     ]
    }
   ],
   "source": [
    "purchases.show(5)"
   ]
  },
  {
   "cell_type": "code",
   "execution_count": 74,
   "metadata": {},
   "outputs": [
    {
     "name": "stdout",
     "output_type": "stream",
     "text": [
      "+----------+------------+-----------+-----+\n",
      "|product_id|product_name|   category|price|\n",
      "+----------+------------+-----------+-----+\n",
      "|         1|   Product_1|     Beauty|  8.3|\n",
      "|         2|   Product_2|       Home|  8.3|\n",
      "|         3|   Product_3|Electronics|  9.2|\n",
      "|         4|   Product_4|Electronics|  2.6|\n",
      "|         5|   Product_5|Electronics|  9.4|\n",
      "+----------+------------+-----------+-----+\n",
      "only showing top 5 rows\n",
      "\n",
      "+-------+------+---+-----------------+\n",
      "|user_id|  name|age|            email|\n",
      "+-------+------+---+-----------------+\n",
      "|      1|User_1| 45|user1@example.com|\n",
      "|      2|User_2| 48|user2@example.com|\n",
      "|      3|User_3| 36|user3@example.com|\n",
      "|      4|User_4| 46|user4@example.com|\n",
      "|      5|User_5| 29|user5@example.com|\n",
      "+-------+------+---+-----------------+\n",
      "only showing top 5 rows\n",
      "\n"
     ]
    },
    {
     "data": {
      "text/plain": [
       "(None, None)"
      ]
     },
     "execution_count": 74,
     "metadata": {},
     "output_type": "execute_result"
    }
   ],
   "source": [
    "products.show(5), users.show(5)"
   ]
  },
  {
   "cell_type": "markdown",
   "metadata": {},
   "source": [
    "# 2. Очистіть дані, видаляючи будь-які рядки з пропущеними значеннями."
   ]
  },
  {
   "cell_type": "code",
   "execution_count": null,
   "metadata": {},
   "outputs": [],
   "source": [
    "purchases_clean = purchases.dropna()\n",
    "products_clean = products.dropna()\n",
    "users_clean = users.dropna()"
   ]
  },
  {
   "cell_type": "code",
   "execution_count": 72,
   "metadata": {},
   "outputs": [
    {
     "name": "stdout",
     "output_type": "stream",
     "text": [
      "+-----------+-------+----------+----------+--------+\n",
      "|purchase_id|user_id|product_id|      date|quantity|\n",
      "+-----------+-------+----------+----------+--------+\n",
      "|          1|     52|         9|2022-01-01|       1|\n",
      "|          2|     93|        37|2022-01-02|       8|\n",
      "|          3|     15|        33|2022-01-03|       1|\n",
      "|          4|     72|        42|2022-01-04|       9|\n",
      "|          5|     61|        44|2022-01-05|       6|\n",
      "+-----------+-------+----------+----------+--------+\n",
      "only showing top 5 rows\n",
      "\n"
     ]
    }
   ],
   "source": [
    "purchases_clean.show(5)"
   ]
  },
  {
   "cell_type": "code",
   "execution_count": 73,
   "metadata": {},
   "outputs": [
    {
     "name": "stdout",
     "output_type": "stream",
     "text": [
      "+----------+------------+-----------+-----+\n",
      "|product_id|product_name|   category|price|\n",
      "+----------+------------+-----------+-----+\n",
      "|         1|   Product_1|     Beauty|  8.3|\n",
      "|         2|   Product_2|       Home|  8.3|\n",
      "|         3|   Product_3|Electronics|  9.2|\n",
      "|         4|   Product_4|Electronics|  2.6|\n",
      "|         5|   Product_5|Electronics|  9.4|\n",
      "+----------+------------+-----------+-----+\n",
      "only showing top 5 rows\n",
      "\n",
      "+-------+------+---+-----------------+\n",
      "|user_id|  name|age|            email|\n",
      "+-------+------+---+-----------------+\n",
      "|      1|User_1| 45|user1@example.com|\n",
      "|      2|User_2| 48|user2@example.com|\n",
      "|      3|User_3| 36|user3@example.com|\n",
      "|      4|User_4| 46|user4@example.com|\n",
      "|      5|User_5| 29|user5@example.com|\n",
      "+-------+------+---+-----------------+\n",
      "only showing top 5 rows\n",
      "\n"
     ]
    },
    {
     "data": {
      "text/plain": [
       "(None, None)"
      ]
     },
     "execution_count": 73,
     "metadata": {},
     "output_type": "execute_result"
    }
   ],
   "source": [
    "products_clean.show(5), users_clean.show(5)"
   ]
  },
  {
   "cell_type": "markdown",
   "metadata": {},
   "source": [
    "# 3. Визначте загальну суму покупок за кожною категорією продуктів."
   ]
  },
  {
   "cell_type": "code",
   "execution_count": null,
   "metadata": {},
   "outputs": [
    {
     "name": "stdout",
     "output_type": "stream",
     "text": [
      "+----------+-----------+-------+----------+--------+------------+-----------+-----+\n",
      "|product_id|purchase_id|user_id|      date|quantity|product_name|   category|price|\n",
      "+----------+-----------+-------+----------+--------+------------+-----------+-----+\n",
      "|         9|          1|     52|2022-01-01|       1|   Product_9|     Beauty|  6.0|\n",
      "|        37|          2|     93|2022-01-02|       8|  Product_37|   Clothing|  6.0|\n",
      "|        33|          3|     15|2022-01-03|       1|  Product_33|       Home|  9.4|\n",
      "|        42|          4|     72|2022-01-04|       9|  Product_42|     Beauty|  9.1|\n",
      "|        24|          6|     21|2022-01-06|       7|  Product_24|Electronics|  2.1|\n",
      "+----------+-----------+-------+----------+--------+------------+-----------+-----+\n",
      "only showing top 5 rows\n",
      "\n"
     ]
    }
   ],
   "source": [
    "merged_data = purchases_clean.join(products_clean, on=\"product_id\")\n",
    "merged_data.show(5)"
   ]
  },
  {
   "cell_type": "code",
   "execution_count": null,
   "metadata": {},
   "outputs": [
    {
     "name": "stdout",
     "output_type": "stream",
     "text": [
      "+----------+-----------+-------+----------+--------+------------+-----------+-----+---------------+\n",
      "|product_id|purchase_id|user_id|      date|quantity|product_name|   category|price|purchase_amount|\n",
      "+----------+-----------+-------+----------+--------+------------+-----------+-----+---------------+\n",
      "|         9|          1|     52|2022-01-01|       1|   Product_9|     Beauty|  6.0|            6.0|\n",
      "|        37|          2|     93|2022-01-02|       8|  Product_37|   Clothing|  6.0|           48.0|\n",
      "|        33|          3|     15|2022-01-03|       1|  Product_33|       Home|  9.4|            9.4|\n",
      "|        42|          4|     72|2022-01-04|       9|  Product_42|     Beauty|  9.1|           81.9|\n",
      "|        24|          6|     21|2022-01-06|       7|  Product_24|Electronics|  2.1|           14.7|\n",
      "+----------+-----------+-------+----------+--------+------------+-----------+-----+---------------+\n",
      "only showing top 5 rows\n",
      "\n"
     ]
    }
   ],
   "source": [
    "merged_data = merged_data.withColumn(\"purchase_amount\", round(col(\"quantity\") * col(\"price\"), 2))\n",
    "merged_data.show(5)"
   ]
  },
  {
   "cell_type": "code",
   "execution_count": null,
   "metadata": {},
   "outputs": [
    {
     "name": "stdout",
     "output_type": "stream",
     "text": [
      "+-----------+--------------+\n",
      "|   category|total_purchase|\n",
      "+-----------+--------------+\n",
      "|       Home|        1523.5|\n",
      "|     Sports|        1802.5|\n",
      "|Electronics|        1174.8|\n",
      "|   Clothing|         790.3|\n",
      "|     Beauty|         459.9|\n",
      "+-----------+--------------+\n",
      "\n"
     ]
    }
   ],
   "source": [
    "total_by_category = merged_data.groupBy(\"category\").agg(\n",
    "    round(spark_sum(\"purchase_amount\"), 2).alias(\"total_purchase\")\n",
    ")\n",
    "total_by_category.show()"
   ]
  },
  {
   "cell_type": "markdown",
   "metadata": {},
   "source": [
    "# 4. Визначте суму покупок за кожною категорією продуктів для вікової категорії від 18 до 25 включно."
   ]
  },
  {
   "cell_type": "code",
   "execution_count": null,
   "metadata": {},
   "outputs": [
    {
     "name": "stdout",
     "output_type": "stream",
     "text": [
      "+-------+----------+-----------+----------+--------+------------+-----------+-----+---------------+-------+---+------------------+\n",
      "|user_id|product_id|purchase_id|      date|quantity|product_name|   category|price|purchase_amount|   name|age|             email|\n",
      "+-------+----------+-----------+----------+--------+------------+-----------+-----+---------------+-------+---+------------------+\n",
      "|     52|         9|          1|2022-01-01|       1|   Product_9|     Beauty|  6.0|            6.0|User_52| 39|user52@example.com|\n",
      "|     93|        37|          2|2022-01-02|       8|  Product_37|   Clothing|  6.0|           48.0|User_93| 25|user93@example.com|\n",
      "|     15|        33|          3|2022-01-03|       1|  Product_33|       Home|  9.4|            9.4|User_15| 30|user15@example.com|\n",
      "|     72|        42|          4|2022-01-04|       9|  Product_42|     Beauty|  9.1|           81.9|User_72| 39|user72@example.com|\n",
      "|     21|        24|          6|2022-01-06|       7|  Product_24|Electronics|  2.1|           14.7|User_21| 37|user21@example.com|\n",
      "+-------+----------+-----------+----------+--------+------------+-----------+-----+---------------+-------+---+------------------+\n",
      "only showing top 5 rows\n",
      "\n"
     ]
    }
   ],
   "source": [
    "merged_with_users = merged_data.join(users_clean, on=\"user_id\")\n",
    "merged_with_users.show(5)"
   ]
  },
  {
   "cell_type": "code",
   "execution_count": null,
   "metadata": {},
   "outputs": [
    {
     "name": "stdout",
     "output_type": "stream",
     "text": [
      "+-------+----------+-----------+----------+--------+------------+--------+-----+---------------+-------+---+------------------+\n",
      "|user_id|product_id|purchase_id|      date|quantity|product_name|category|price|purchase_amount|   name|age|             email|\n",
      "+-------+----------+-----------+----------+--------+------------+--------+-----+---------------+-------+---+------------------+\n",
      "|     93|        37|          2|2022-01-02|       8|  Product_37|Clothing|  6.0|           48.0|User_93| 25|user93@example.com|\n",
      "|     88|        41|         11|2022-01-11|       8|  Product_41|  Sports|  5.9|           47.2|User_88| 25|user88@example.com|\n",
      "|     88|        49|         18|2022-01-18|       3|  Product_49|  Sports|  9.7|           29.1|User_88| 25|user88@example.com|\n",
      "|     58|        37|         27|2022-01-27|       6|  Product_37|Clothing|  6.0|           36.0|User_58| 20|user58@example.com|\n",
      "|     91|        19|         31|2022-01-31|       6|  Product_19|Clothing|  3.5|           21.0|User_91| 21|user91@example.com|\n",
      "+-------+----------+-----------+----------+--------+------------+--------+-----+---------------+-------+---+------------------+\n",
      "only showing top 5 rows\n",
      "\n"
     ]
    }
   ],
   "source": [
    "age_filtered = merged_with_users.filter((col(\"age\") >= 18) & (col(\"age\") <= 25))\n",
    "age_filtered.show(5)"
   ]
  },
  {
   "cell_type": "code",
   "execution_count": null,
   "metadata": {},
   "outputs": [
    {
     "name": "stdout",
     "output_type": "stream",
     "text": [
      "+-----------+--------------+\n",
      "|   category|total_purchase|\n",
      "+-----------+--------------+\n",
      "|       Home|         361.1|\n",
      "|     Sports|         310.5|\n",
      "|Electronics|         249.6|\n",
      "|   Clothing|         245.0|\n",
      "|     Beauty|          41.4|\n",
      "+-----------+--------------+\n",
      "\n"
     ]
    }
   ],
   "source": [
    "total_by_category_age_group = age_filtered.groupBy(\"category\").agg(\n",
    "    round(spark_sum(\"purchase_amount\"), 2).alias(\"total_purchase\")\n",
    ")\n",
    "total_by_category_age_group.show(5)"
   ]
  },
  {
   "cell_type": "markdown",
   "metadata": {},
   "source": [
    "# 5. Визначте частку покупок за кожною категорією товарів від сумарних витрат для вікової категорії від 18 до 25 років."
   ]
  },
  {
   "cell_type": "code",
   "execution_count": null,
   "metadata": {},
   "outputs": [
    {
     "name": "stdout",
     "output_type": "stream",
     "text": [
      "1207.6\n"
     ]
    }
   ],
   "source": [
    "total_purchase_age_group = age_filtered.agg(\n",
    "    spark_sum(\"purchase_amount\").alias(\"total_purchase\")\n",
    ").collect()[0][\"total_purchase\"]\n",
    "print(total_purchase_age_group)"
   ]
  },
  {
   "cell_type": "code",
   "execution_count": null,
   "metadata": {},
   "outputs": [
    {
     "name": "stdout",
     "output_type": "stream",
     "text": [
      "+-----------+--------------+----------+\n",
      "|   category|total_purchase|percentage|\n",
      "+-----------+--------------+----------+\n",
      "|       Home|         361.1|      29.9|\n",
      "|     Sports|         310.5|     25.71|\n",
      "|Electronics|         249.6|     20.67|\n",
      "|   Clothing|         245.0|     20.29|\n",
      "|     Beauty|          41.4|      3.43|\n",
      "+-----------+--------------+----------+\n",
      "\n"
     ]
    }
   ],
   "source": [
    "category_percentage = total_by_category_age_group.withColumn(\n",
    "    \"percentage\", round((col(\"total_purchase\") / total_purchase_age_group) * 100, 2)\n",
    ")\n",
    "\n",
    "category_percentage.show()"
   ]
  },
  {
   "cell_type": "markdown",
   "metadata": {},
   "source": [
    "# 6. Виберіть 3 категорії продуктів з найвищим відсотком витрат споживачами віком від 18 до 25 років."
   ]
  },
  {
   "cell_type": "code",
   "execution_count": null,
   "metadata": {},
   "outputs": [
    {
     "name": "stdout",
     "output_type": "stream",
     "text": [
      "+-----------+--------------+----------+\n",
      "|   category|total_purchase|percentage|\n",
      "+-----------+--------------+----------+\n",
      "|       Home|         361.1|      29.9|\n",
      "|     Sports|         310.5|     25.71|\n",
      "|Electronics|         249.6|     20.67|\n",
      "+-----------+--------------+----------+\n",
      "\n"
     ]
    }
   ],
   "source": [
    "top_3_categories = category_percentage.orderBy(col(\"percentage\").desc()).limit(3)\n",
    "\n",
    "top_3_categories.show()"
   ]
  }
 ],
 "metadata": {
  "kernelspec": {
   "display_name": "Python 3",
   "language": "python",
   "name": "python3"
  },
  "language_info": {
   "codemirror_mode": {
    "name": "ipython",
    "version": 3
   },
   "file_extension": ".py",
   "mimetype": "text/x-python",
   "name": "python",
   "nbconvert_exporter": "python",
   "pygments_lexer": "ipython3",
   "version": "3.12.0"
  }
 },
 "nbformat": 4,
 "nbformat_minor": 2
}
